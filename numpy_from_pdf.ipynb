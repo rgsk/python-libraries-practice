{
 "cells": [
  {
   "cell_type": "code",
   "execution_count": 1,
   "metadata": {},
   "outputs": [
    {
     "name": "stdout",
     "output_type": "stream",
     "text": [
      "[1 2 3 4 5]\n",
      "<class 'numpy.ndarray'>\n"
     ]
    }
   ],
   "source": [
    "'''To create an ndarray, we can pass a list, tuple or any array-like object into the array(\n",
    "method, and it will be converted into an ndarray:'''\n",
    "\n",
    "import numpy as np \n",
    "arr=np.array([1,2,3,4,5]) #creating array\n",
    "print(arr)\n",
    "print(type(arr)) #cheak type of arr"
   ]
  },
  {
   "cell_type": "code",
   "execution_count": 2,
   "metadata": {},
   "outputs": [
    {
     "name": "stdout",
     "output_type": "stream",
     "text": [
      "1.21.5\n"
     ]
    }
   ],
   "source": [
    "import numpy as np\n",
    "print(np.__version__) #cheak numpy version"
   ]
  },
  {
   "cell_type": "code",
   "execution_count": 3,
   "metadata": {},
   "outputs": [
    {
     "name": "stdout",
     "output_type": "stream",
     "text": [
      "[1 2 3 4 5]\n"
     ]
    }
   ],
   "source": [
    "#use tuple to create numpy array\n",
    "import numpy as np\n",
    "arr = np.array((1, 2, 3, 4, 5))\n",
    "print(arr)"
   ]
  },
  {
   "cell_type": "code",
   "execution_count": 4,
   "metadata": {},
   "outputs": [
    {
     "name": "stdout",
     "output_type": "stream",
     "text": [
      "[[1 2 3 4 5]\n",
      " [5 6 7 8 9]]\n"
     ]
    }
   ],
   "source": [
    "#Create a 2-D array containing the values 1,2,3,4,5 and 5,6,7,8,9:\n",
    "arr=np.array([[1,2,3,4,5],[5,6,7,8,9]])\n",
    "print(arr)"
   ]
  },
  {
   "cell_type": "code",
   "execution_count": 5,
   "metadata": {},
   "outputs": [
    {
     "name": "stdout",
     "output_type": "stream",
     "text": [
      "[1 2 3 4 5]\n"
     ]
    }
   ],
   "source": [
    "#Create a 1-D array containing the values 1,2,3,4,5:\n",
    "arr=np.array([1,2,3,4,5])\n",
    "print(arr)"
   ]
  },
  {
   "cell_type": "code",
   "execution_count": 6,
   "metadata": {},
   "outputs": [
    {
     "name": "stdout",
     "output_type": "stream",
     "text": [
      "[[[1 2 3]\n",
      "  [4 5 6]]\n",
      "\n",
      " [[1 2 3]\n",
      "  [4 5 6]]]\n"
     ]
    }
   ],
   "source": [
    "#Create a 3-D array with two 2-D arrays, both containing two arrays with the values 1,2,3 a\n",
    "arr = np.array([[[1, 2, 3], [4, 5, 6]], [[1, 2, 3], [4, 5, 6]]])\n",
    "print(arr)"
   ]
  },
  {
   "cell_type": "code",
   "execution_count": 7,
   "metadata": {},
   "outputs": [
    {
     "name": "stdout",
     "output_type": "stream",
     "text": [
      "0\n",
      "1\n",
      "2\n",
      "3\n"
     ]
    }
   ],
   "source": [
    "#NumPy Arrays provides the ndim attribute that returns an integer that tells us how many di\n",
    "a = np.array(42)\n",
    "b = np.array([1, 2, 3, 4, 5])\n",
    "c = np.array([[1, 2, 3], [4, 5, 6]])\n",
    "d = np.array([[[1, 2, 3], [4, 5, 6]], [[1, 2, 3], [4, 5, 6]]])\n",
    "print(a.ndim)\n",
    "print(b.ndim)\n",
    "print(c.ndim)\n",
    "print(d.ndim)"
   ]
  },
  {
   "cell_type": "code",
   "execution_count": 8,
   "metadata": {},
   "outputs": [
    {
     "name": "stdout",
     "output_type": "stream",
     "text": [
      "3\n"
     ]
    }
   ],
   "source": [
    "d = np.array([[[1, 2, 3]]])\n",
    "print(d.ndim)"
   ]
  },
  {
   "cell_type": "code",
   "execution_count": 9,
   "metadata": {},
   "outputs": [
    {
     "name": "stdout",
     "output_type": "stream",
     "text": [
      "[[[[[1 2 3 4]]]]]\n",
      "number of dimensions : 5\n"
     ]
    }
   ],
   "source": [
    "#Create an array with 5 dimensions and verify that it has 5 dimensions:\n",
    "arr = np.array([1, 2, 3, 4], ndmin=5)\n",
    "print(arr)\n",
    "print('number of dimensions :', arr.ndim)"
   ]
  },
  {
   "cell_type": "code",
   "execution_count": 10,
   "metadata": {},
   "outputs": [
    {
     "name": "stdout",
     "output_type": "stream",
     "text": [
      "2\n",
      "7\n"
     ]
    }
   ],
   "source": [
    "#access array element using indexing\n",
    "arr = np.array([1, 2, 3, 4])\n",
    "print(arr[1])\n",
    "print(arr[2] + arr[3]) #add two element in array using indexing"
   ]
  },
  {
   "cell_type": "code",
   "execution_count": 11,
   "metadata": {},
   "outputs": [
    {
     "name": "stdout",
     "output_type": "stream",
     "text": [
      "['1' 'rahul']\n",
      "1rahul\n"
     ]
    }
   ],
   "source": [
    "arr = np.array([1, 'rahul'])\n",
    "print(arr)\n",
    "print(arr[0] + arr[1])"
   ]
  },
  {
   "cell_type": "code",
   "execution_count": 12,
   "metadata": {},
   "outputs": [
    {
     "name": "stdout",
     "output_type": "stream",
     "text": [
      "2nd element on 1st row:  2\n",
      "5th element on 2nd row:  10\n"
     ]
    }
   ],
   "source": [
    "#accessing of 2D-array element\n",
    "arr = np.array([[1,2,3,4,5], [6,7,8,9,10]])\n",
    "print('2nd element on 1st row: ', arr[0, 1])\n",
    "print('5th element on 2nd row: ', arr[1, 4])"
   ]
  },
  {
   "cell_type": "code",
   "execution_count": 13,
   "metadata": {},
   "outputs": [
    {
     "name": "stdout",
     "output_type": "stream",
     "text": [
      "6\n"
     ]
    }
   ],
   "source": [
    "#Access 3-D Arrays\n",
    "arr = np.array([[[1, 2, 3], [4, 5, 6]], [[7, 8, 9], [10, 11, 12]]])\n",
    "print(arr[0, 1, 2]) #Access the third element of the second array of the first array:"
   ]
  },
  {
   "cell_type": "code",
   "execution_count": 14,
   "metadata": {},
   "outputs": [
    {
     "name": "stdout",
     "output_type": "stream",
     "text": [
      "Last element from 2nd dim:  10\n"
     ]
    }
   ],
   "source": [
    "arr = np.array([[1,2,3,4,5], [6,7,8,9,10]])\n",
    "print('Last element from 2nd dim: ', arr[1, -1])"
   ]
  },
  {
   "cell_type": "markdown",
   "metadata": {},
   "source": [
    "### Slicing arrays\n",
    "\n",
    "Slicing in python means taking elements from one given index to another given index.\n",
    "\n",
    "We pass slice instead of index like this: [start:end].\n",
    "\n",
    "We can also define the step, like this: [start:end:step].\n",
    "\n",
    "If we don't pass start its considered 0\n",
    "\n",
    "If we don't pass end its considered length of array in that dimension\n",
    "\n",
    "If we don't pass step its considered 1"
   ]
  },
  {
   "cell_type": "code",
   "execution_count": 15,
   "metadata": {},
   "outputs": [
    {
     "name": "stdout",
     "output_type": "stream",
     "text": [
      "[2 3 4 5]\n",
      "[5 6 7]\n",
      "[1 2 3 4]\n",
      "[5 6]\n",
      "[2 4]\n",
      "[1 3 5 7]\n"
     ]
    }
   ],
   "source": [
    "import numpy as np\n",
    "arr = np.array([1, 2, 3, 4, 5, 6, 7])\n",
    "print(arr[1:5])\n",
    "print(arr[4:])\n",
    "print(arr[:4])\n",
    "print(arr[-3:-1])\n",
    "print(arr[1:5:2]) #step: skip one element\n",
    "print(arr[::2]) #skip one elemrnt of entire array"
   ]
  },
  {
   "cell_type": "code",
   "execution_count": 16,
   "metadata": {},
   "outputs": [
    {
     "name": "stdout",
     "output_type": "stream",
     "text": [
      "[7 6 5 4 3 2 1]\n",
      "[7 6 5 4 3 2 1 0]\n",
      "[7 6 5 4 3 2 1 0]\n",
      "[7]\n",
      "[7 6 5 4 3 2 1 0]\n"
     ]
    }
   ],
   "source": [
    "arr = np.array([0, 1, 2, 3, 4, 5, 6, 7])\n",
    "print(arr[len(arr):0:-1])\n",
    "print(arr[len(arr)::-1])\n",
    "print(arr[::-1])\n",
    "print(arr[:-2:-1])\n",
    "print(arr[len(arr)-1::-1])\n"
   ]
  },
  {
   "cell_type": "code",
   "execution_count": 17,
   "metadata": {},
   "outputs": [
    {
     "name": "stdout",
     "output_type": "stream",
     "text": [
      "[7 8 9]\n",
      "[1 2 3 4 5]\n",
      "[3 8]\n",
      "[[2 3 4]\n",
      " [7 8 9]]\n"
     ]
    }
   ],
   "source": [
    "#Slicing 2-D Arrays\n",
    "arr = np.array([[1, 2, 3, 4, 5], [6, 7, 8, 9, 10]])\n",
    "print(arr[1, 1:4])\n",
    "print(arr[0, 0:6])\n",
    "print(arr[0:2, 2]) #from both element return 2nd element\n",
    "print(arr[0:2, 1:4]) "
   ]
  },
  {
   "cell_type": "markdown",
   "metadata": {},
   "source": [
    "### Data Types in NumPy\n",
    "NumPy has some extra data types, and refer to data types with one character, like i for integers, u for unsigned integers etc.\n",
    "\n",
    "Below is a list of all data types in NumPy and the characters used to represent them.\n",
    "```\n",
    "i - integer\n",
    "b - boolean \n",
    "u - unsigned integer \n",
    "f - float \n",
    "c - complex float \n",
    "m - timedelta \n",
    "M - datetime \n",
    "O - object \n",
    "S - string \n",
    "U - unicode string \n",
    "V - fixed chunk of memory for other type ( void )\n",
    "```"
   ]
  },
  {
   "cell_type": "code",
   "execution_count": 18,
   "metadata": {},
   "outputs": [
    {
     "name": "stdout",
     "output_type": "stream",
     "text": [
      "<U6\n",
      "int64\n"
     ]
    }
   ],
   "source": [
    "arr = np.array(['apple', 'banana', 'cherry'])\n",
    "print(arr.dtype)\n",
    "arr = np.array([1, 2, 3, 4])\n",
    "print(arr.dtype)"
   ]
  },
  {
   "cell_type": "code",
   "execution_count": 19,
   "metadata": {},
   "outputs": [
    {
     "name": "stdout",
     "output_type": "stream",
     "text": [
      "<U18\n"
     ]
    }
   ],
   "source": [
    "arr = np.array(['apple', 'banana', 'i am 18 characters'])\n",
    "# space allocated is equal to largest character string in array\n",
    "print(arr.dtype)"
   ]
  },
  {
   "cell_type": "code",
   "execution_count": 20,
   "metadata": {},
   "outputs": [
    {
     "name": "stdout",
     "output_type": "stream",
     "text": [
      "[b'1' b'2' b'3' b'4']\n",
      "|S1\n"
     ]
    }
   ],
   "source": [
    "#create a array with data type stirng\n",
    "arr = np.array([1, 2, 3, 4], dtype='S')\n",
    "print(arr)\n",
    "print(arr.dtype)"
   ]
  },
  {
   "cell_type": "code",
   "execution_count": 21,
   "metadata": {},
   "outputs": [
    {
     "name": "stdout",
     "output_type": "stream",
     "text": [
      "[1 2 3 4]\n",
      "int32\n"
     ]
    }
   ],
   "source": [
    "#Create an array with data type 4 bytes integer:\n",
    "arr = np.array([1, 2, 3, 4], dtype='i4')\n",
    "print(arr)\n",
    "print(arr.dtype)"
   ]
  },
  {
   "cell_type": "code",
   "execution_count": 22,
   "metadata": {},
   "outputs": [
    {
     "name": "stdout",
     "output_type": "stream",
     "text": [
      "[1 2 3 4]\n",
      "int64\n"
     ]
    }
   ],
   "source": [
    "#Create an array with data type 4 bytes integer:\n",
    "arr = np.array([1, 2, 3, 4], dtype='i8')\n",
    "print(arr)\n",
    "print(arr.dtype)"
   ]
  },
  {
   "cell_type": "code",
   "execution_count": 23,
   "metadata": {},
   "outputs": [
    {
     "name": "stdout",
     "output_type": "stream",
     "text": [
      "[b'1' b'2' b'3' b'4']\n",
      "b'1'\n",
      "1\n",
      "[1, 2, 3, 4]\n"
     ]
    }
   ],
   "source": [
    "#create a array with data type stirng\n",
    "arr = np.array([1, 2, 3, 4], dtype='S')\n",
    "print(arr)\n",
    "print(arr[0])\n",
    "print(int(arr[0]))\n",
    "int_arr = [int(v) for v in arr]\n",
    "print(int_arr)"
   ]
  },
  {
   "cell_type": "markdown",
   "metadata": {},
   "source": [
    "### Converting Data Type on Existing Arrays\n",
    "The best way to change the data type of an existing array, is to make a copy of the array with the astype() method.\n",
    "\n",
    "The astype() function creates a copy of the array, and allows you to specify the data type as a parameter.\n",
    "\n",
    "The data type can be specified using a string, like 'f' for float, 'i' for integer etc. or you can use the data type directly like float for float and int for integer"
   ]
  },
  {
   "cell_type": "code",
   "execution_count": 24,
   "metadata": {},
   "outputs": [
    {
     "name": "stdout",
     "output_type": "stream",
     "text": [
      "float64\n",
      "[1 2 3]\n",
      "int64\n"
     ]
    }
   ],
   "source": [
    "#change data type float into integer\n",
    "arr = np.array([1.1, 2.1, 3.1])\n",
    "print(arr.dtype)\n",
    "newarr = arr.astype('int')\n",
    "print(newarr)\n",
    "print(newarr.dtype)"
   ]
  },
  {
   "cell_type": "code",
   "execution_count": 25,
   "metadata": {},
   "outputs": [
    {
     "name": "stdout",
     "output_type": "stream",
     "text": [
      "int64\n",
      "[1. 2. 3.]\n",
      "float64\n"
     ]
    }
   ],
   "source": [
    "#change data type integer to float\n",
    "arr = np.array([1, 2, 3])\n",
    "print(arr.dtype)\n",
    "newarr = arr.astype('float')\n",
    "print(newarr)\n",
    "print(newarr.dtype)"
   ]
  },
  {
   "cell_type": "code",
   "execution_count": 26,
   "metadata": {},
   "outputs": [
    {
     "name": "stdout",
     "output_type": "stream",
     "text": [
      "float64\n",
      "[1 2 3]\n",
      "int32\n"
     ]
    }
   ],
   "source": [
    "#change data type float into integer\n",
    "arr = np.array([1.1, 2.1, 3.1])\n",
    "print(arr.dtype)\n",
    "newarr = arr.astype('i')\n",
    "print(newarr)\n",
    "print(newarr.dtype)"
   ]
  },
  {
   "cell_type": "markdown",
   "metadata": {},
   "source": [
    "### The Difference Between Copy and View\n",
    "\n",
    "The main difference between a copy and a view of an array is that the copy is a new array, and the view is just a view of the original array.\n",
    "\n",
    "The copy owns the data and any changes made to the copy will not affect original array, and any changes made to the original array will not affect the copy.\n",
    "\n",
    "The view does not own the data and any changes made to the view will affect the original array, and anychanges made to the original array will affect the view."
   ]
  },
  {
   "cell_type": "code",
   "execution_count": 27,
   "metadata": {},
   "outputs": [
    {
     "name": "stdout",
     "output_type": "stream",
     "text": [
      "[42  2  3  4  5]\n",
      "[1 2 3 4 5]\n",
      "[False  True  True  True  True]\n",
      "False\n"
     ]
    }
   ],
   "source": [
    "arr = np.array([1, 2, 3, 4, 5])\n",
    "x = arr.copy()\n",
    "arr[0] = 42\n",
    "print(arr)\n",
    "print(x)\n",
    "print(arr == x)\n",
    "print(arr is x)"
   ]
  },
  {
   "cell_type": "code",
   "execution_count": 28,
   "metadata": {},
   "outputs": [
    {
     "name": "stdout",
     "output_type": "stream",
     "text": [
      "[42  2  3  4  5]\n",
      "[42  2  3  4  5]\n",
      "[ True  True  True  True  True]\n",
      "False\n"
     ]
    }
   ],
   "source": [
    "arr = np.array([1, 2, 3, 4, 5])\n",
    "x = arr.view()\n",
    "arr[0] = 42\n",
    "print(arr)\n",
    "print(x)\n",
    "print(arr == x)\n",
    "print(arr is x)"
   ]
  },
  {
   "cell_type": "code",
   "execution_count": 29,
   "metadata": {},
   "outputs": [
    {
     "name": "stdout",
     "output_type": "stream",
     "text": [
      "[42  2  3  4  5]\n",
      "[42  2  3  4  5]\n",
      "[ True  True  True  True  True]\n",
      "True\n"
     ]
    }
   ],
   "source": [
    "arr = np.array([1, 2, 3, 4, 5])\n",
    "x = arr\n",
    "arr[0] = 42\n",
    "print(arr)\n",
    "print(x)\n",
    "print(arr == x)\n",
    "print(arr is x)"
   ]
  },
  {
   "cell_type": "markdown",
   "metadata": {},
   "source": [
    "### Get the Shape of an Array\n",
    "\n",
    "NumPy arrays have an attribute called shape that returns a tuple with each index having the number of corresponding elements."
   ]
  },
  {
   "cell_type": "code",
   "execution_count": 30,
   "metadata": {},
   "outputs": [
    {
     "name": "stdout",
     "output_type": "stream",
     "text": [
      "(2, 4)\n"
     ]
    }
   ],
   "source": [
    "arr = np.array([[1, 2, 3, 4], [5, 6, 7, 8]])\n",
    "print(arr.shape)"
   ]
  },
  {
   "cell_type": "code",
   "execution_count": 31,
   "metadata": {},
   "outputs": [
    {
     "name": "stdout",
     "output_type": "stream",
     "text": [
      "(2, 2, 3)\n"
     ]
    }
   ],
   "source": [
    "arr = np.array([[[1, 2, 3], [4, 5, 6]], [[7, 8, 9], [10, 11, 12]]])\n",
    "print(arr.shape)"
   ]
  },
  {
   "cell_type": "markdown",
   "metadata": {},
   "source": [
    "### Reshaping arrays\n",
    "\n",
    "Reshaping means changing the shape of an array.\n",
    "\n",
    "The shape of an array is the number of elements in each dimension.\n",
    "\n",
    "By reshaping we can add or remove dimensions or change number of elements in each dimension."
   ]
  },
  {
   "cell_type": "code",
   "execution_count": 32,
   "metadata": {},
   "outputs": [
    {
     "name": "stdout",
     "output_type": "stream",
     "text": [
      "[[ 1  2  3]\n",
      " [ 4  5  6]\n",
      " [ 7  8  9]\n",
      " [10 11 12]]\n"
     ]
    }
   ],
   "source": [
    "'''Convert the following 1-D array with 12 elements into a 2-D array.\n",
    "The outermost dimension will have 4 arrays, each with 3 elements:'''\n",
    "arr = np.array([1, 2, 3, 4, 5, 6, 7, 8, 9, 10, 11, 12])\n",
    "newarr = arr.reshape(4, 3)\n",
    "print(newarr)"
   ]
  },
  {
   "cell_type": "code",
   "execution_count": 33,
   "metadata": {},
   "outputs": [
    {
     "name": "stdout",
     "output_type": "stream",
     "text": [
      "[[ 1  2]\n",
      " [ 3  4]\n",
      " [ 5  6]\n",
      " [ 7  8]\n",
      " [ 9 10]\n",
      " [11 12]]\n"
     ]
    }
   ],
   "source": [
    "arr = np.array([1, 2, 3, 4, 5, 6, 7, 8, 9, 10, 11, 12])\n",
    "newarr = arr.reshape(6, 2)\n",
    "print(newarr)\n"
   ]
  },
  {
   "cell_type": "code",
   "execution_count": 34,
   "metadata": {},
   "outputs": [
    {
     "name": "stdout",
     "output_type": "stream",
     "text": [
      "[[[ 1  2]\n",
      "  [ 3  4]]\n",
      "\n",
      " [[ 5  6]\n",
      "  [ 7  8]]\n",
      "\n",
      " [[ 9 10]\n",
      "  [11 12]]\n",
      "\n",
      " [[13 14]\n",
      "  [15 16]]]\n"
     ]
    }
   ],
   "source": [
    "arr = np.array([1, 2, 3, 4, 5, 6, 7, 8, 9, 10, 11, 12, 13, 14, 15, 16])\n",
    "newarr = arr.reshape(4, 2, 2)\n",
    "print(newarr)\n"
   ]
  },
  {
   "cell_type": "code",
   "execution_count": 35,
   "metadata": {},
   "outputs": [
    {
     "name": "stdout",
     "output_type": "stream",
     "text": [
      "[[[ 1  2]\n",
      "  [ 3  4]\n",
      "  [ 5  6]]\n",
      "\n",
      " [[ 7  8]\n",
      "  [ 9 10]\n",
      "  [11 12]]]\n"
     ]
    }
   ],
   "source": [
    "''''Convert the following 1-D array with 12 elements into a 3-D array.\n",
    "The outermost dimension will have 2 arrays that contains 3 arrays, each with 2 elements:'''\n",
    "arr = np.array([1, 2, 3, 4, 5, 6, 7, 8, 9, 10, 11, 12])\n",
    "newarr = arr.reshape(2, 3, 2)\n",
    "print(newarr)"
   ]
  },
  {
   "cell_type": "markdown",
   "metadata": {},
   "source": [
    "### Iterating Arrays\n",
    "\n",
    "Iterating means going through elements one by one.\n",
    "\n",
    "As we deal with multi-dimensional arrays in numpy, we can do this using basic for loop of python.\n",
    "\n",
    "If we iterate on a 1-D array it will go through each element one by one."
   ]
  },
  {
   "cell_type": "code",
   "execution_count": 36,
   "metadata": {},
   "outputs": [
    {
     "name": "stdout",
     "output_type": "stream",
     "text": [
      "1\n",
      "2\n",
      "3\n"
     ]
    }
   ],
   "source": [
    "arr = np.array([1, 2, 3])\n",
    "for x in arr:\n",
    "    print(x)"
   ]
  },
  {
   "cell_type": "code",
   "execution_count": 37,
   "metadata": {},
   "outputs": [
    {
     "name": "stdout",
     "output_type": "stream",
     "text": [
      "[1 2 3]\n",
      "[4 5 6]\n"
     ]
    }
   ],
   "source": [
    "arr = np.array([[1, 2, 3], [4, 5, 6]])\n",
    "for x in arr:\n",
    " print(x)"
   ]
  },
  {
   "cell_type": "code",
   "execution_count": 38,
   "metadata": {},
   "outputs": [
    {
     "name": "stdout",
     "output_type": "stream",
     "text": [
      "1\n",
      "2\n",
      "3\n",
      "4\n",
      "5\n",
      "6\n"
     ]
    }
   ],
   "source": [
    "arr = np.array([[1, 2, 3], [4, 5, 6]])\n",
    "for row in arr:\n",
    "    for e in row:\n",
    "        print(e)"
   ]
  },
  {
   "cell_type": "code",
   "execution_count": 39,
   "metadata": {},
   "outputs": [
    {
     "name": "stdout",
     "output_type": "stream",
     "text": [
      "[[1 2 3]\n",
      " [4 5 6]]\n",
      "[[ 7  8  9]\n",
      " [10 11 12]]\n"
     ]
    }
   ],
   "source": [
    "arr = np.array([[[1, 2, 3], [4, 5, 6]], [[7, 8, 9], [10, 11, 12]]])\n",
    "for x in arr:\n",
    "    print(x)"
   ]
  },
  {
   "cell_type": "code",
   "execution_count": 40,
   "metadata": {},
   "outputs": [
    {
     "name": "stdout",
     "output_type": "stream",
     "text": [
      "1\n",
      "2\n",
      "3\n",
      "4\n",
      "5\n",
      "6\n",
      "7\n",
      "8\n",
      "9\n",
      "10\n",
      "11\n",
      "12\n"
     ]
    }
   ],
   "source": [
    "arr = np.array([[[1, 2, 3], [4, 5, 6]], [[7, 8, 9], [10, 11, 12]]])\n",
    "for x in arr:\n",
    "    for y in x:\n",
    "        for z in y:\n",
    "            print(z)"
   ]
  },
  {
   "cell_type": "code",
   "execution_count": 41,
   "metadata": {},
   "outputs": [
    {
     "name": "stdout",
     "output_type": "stream",
     "text": [
      "1\n",
      "2\n",
      "3\n",
      "4\n",
      "5\n",
      "6\n",
      "7\n",
      "8\n"
     ]
    }
   ],
   "source": [
    "# 3-d array using nditer() method\n",
    "arr = np.array([[[1, 2], [3, 4]], [[5, 6], [7, 8]]])\n",
    "for x in np.nditer(arr):\n",
    "    print(x)"
   ]
  },
  {
   "cell_type": "code",
   "execution_count": 42,
   "metadata": {},
   "outputs": [
    {
     "name": "stdout",
     "output_type": "stream",
     "text": [
      "1\n",
      "3\n",
      "5\n",
      "7\n"
     ]
    }
   ],
   "source": [
    "# Iterate through every scalar element of the 2D array skipping 1 element:\n",
    "arr = np.array([[1, 2, 3, 4], [5, 6, 7, 8]])\n",
    "for x in np.nditer(arr[:, ::2]):\n",
    "    print(x)"
   ]
  },
  {
   "cell_type": "code",
   "execution_count": 43,
   "metadata": {},
   "outputs": [
    {
     "name": "stdout",
     "output_type": "stream",
     "text": [
      "(0,) 1\n",
      "(1,) 2\n",
      "(2,) 3\n"
     ]
    }
   ],
   "source": [
    "# Sometimes we require corresponding index of the element while iterating, the ndenumerate(\n",
    "arr = np.array([1, 2, 3])\n",
    "for idx, x in np.ndenumerate(arr):\n",
    "    print(idx, x)"
   ]
  },
  {
   "cell_type": "code",
   "execution_count": 44,
   "metadata": {},
   "outputs": [
    {
     "name": "stdout",
     "output_type": "stream",
     "text": [
      "[[-1 -1 -1 -1 -1 -1]\n",
      " [-1 -1 -1 -1 -1 -1]]\n"
     ]
    }
   ],
   "source": [
    "#initializing numpy array with same number\n",
    "arr=np.full((2,6),-1)\n",
    "print(arr)"
   ]
  },
  {
   "cell_type": "code",
   "execution_count": 45,
   "metadata": {},
   "outputs": [
    {
     "name": "stdout",
     "output_type": "stream",
     "text": [
      "[10 11 12 13 14 15 16 17 18 19]\n"
     ]
    }
   ],
   "source": [
    "#initializing numpy array within a range\n",
    "arr=np.arange(10,20)\n",
    "print(arr)"
   ]
  },
  {
   "cell_type": "code",
   "execution_count": 46,
   "metadata": {},
   "outputs": [
    {
     "name": "stdout",
     "output_type": "stream",
     "text": [
      "[10 15 20 25 30 35 40 45]\n"
     ]
    }
   ],
   "source": [
    "arr=np.arange(10,50,5)\n",
    "print(arr)"
   ]
  },
  {
   "cell_type": "code",
   "execution_count": 47,
   "metadata": {},
   "outputs": [
    {
     "name": "stdout",
     "output_type": "stream",
     "text": [
      "[10 12 79 81 67]\n"
     ]
    }
   ],
   "source": [
    "# generate random number in array\n",
    "arr=np.random.randint(1,100,5)\n",
    "print(arr)"
   ]
  },
  {
   "cell_type": "markdown",
   "metadata": {},
   "source": [
    "### Joining NumPy Arrays\n",
    "\n",
    "Joining means putting contents of two or more arrays in a single array.\n",
    "\n",
    "In SQL we join tables based on a key, whereas in NumPy we join arrays by axes.\n",
    "\n",
    "We pass a sequence of arrays that we want to join to the concatenate() function, along with the axis. If axis is not explicitly passed, it is taken as 0."
   ]
  },
  {
   "cell_type": "code",
   "execution_count": 48,
   "metadata": {},
   "outputs": [
    {
     "name": "stdout",
     "output_type": "stream",
     "text": [
      "[1 2 3 4 5 6]\n"
     ]
    }
   ],
   "source": [
    "arr1 = np.array([1, 2, 3])\n",
    "arr2 = np.array([4, 5, 6])\n",
    "arr = np.concatenate((arr1, arr2))\n",
    "print(arr)"
   ]
  },
  {
   "cell_type": "code",
   "execution_count": 49,
   "metadata": {},
   "outputs": [
    {
     "name": "stdout",
     "output_type": "stream",
     "text": [
      "[[1 2 5 6]\n",
      " [3 4 7 8]]\n"
     ]
    }
   ],
   "source": [
    "arr1 = np.array([[1, 2], [3, 4]])\n",
    "arr2 = np.array([[5, 6], [7, 8]])\n",
    "arr = np.concatenate((arr1, arr2), axis=1)\n",
    "print(arr)"
   ]
  },
  {
   "cell_type": "code",
   "execution_count": 50,
   "metadata": {},
   "outputs": [
    {
     "name": "stdout",
     "output_type": "stream",
     "text": [
      "[[[ 1  2  9 10]\n",
      "  [ 3  4 11 12]]\n",
      "\n",
      " [[ 5  6 13 14]\n",
      "  [ 7  8 15 16]]]\n"
     ]
    }
   ],
   "source": [
    "arr1 = np.array([[[1, 2], [3, 4]], [[5, 6], [7, 8]]])\n",
    "arr2 = np.array([[[9, 10], [11, 12]], [[13, 14], [15, 16]]])\n",
    "arr = np.concatenate((arr1, arr2), axis=2)\n",
    "print(arr)\n"
   ]
  },
  {
   "cell_type": "markdown",
   "metadata": {},
   "source": [
    "### Using Stack Function"
   ]
  },
  {
   "cell_type": "code",
   "execution_count": 51,
   "metadata": {},
   "outputs": [
    {
     "name": "stdout",
     "output_type": "stream",
     "text": [
      "[[1 4]\n",
      " [2 5]\n",
      " [3 6]]\n"
     ]
    }
   ],
   "source": [
    "import numpy as np\n",
    "arr1 = np.array([1, 2, 3])\n",
    "arr2 = np.array([4, 5, 6])\n",
    "arr = np.stack((arr1, arr2), axis=1)\n",
    "print(arr)"
   ]
  },
  {
   "cell_type": "code",
   "execution_count": 52,
   "metadata": {},
   "outputs": [
    {
     "name": "stdout",
     "output_type": "stream",
     "text": [
      "[1 2 3 4 5 6]\n"
     ]
    }
   ],
   "source": [
    "arr1 = np.array([1, 2, 3])\n",
    "arr2 = np.array([4, 5, 6])\n",
    "arr = np.hstack((arr1, arr2))\n",
    "print(arr)"
   ]
  },
  {
   "cell_type": "code",
   "execution_count": 53,
   "metadata": {},
   "outputs": [
    {
     "name": "stdout",
     "output_type": "stream",
     "text": [
      "[[1 2 3]\n",
      " [4 5 6]]\n"
     ]
    }
   ],
   "source": [
    "arr1 = np.array([1, 2, 3])\n",
    "arr2 = np.array([4, 5, 6])\n",
    "arr = np.vstack((arr1, arr2))\n",
    "print(arr)"
   ]
  },
  {
   "cell_type": "code",
   "execution_count": 54,
   "metadata": {},
   "outputs": [
    {
     "name": "stdout",
     "output_type": "stream",
     "text": [
      "[[[1 4]\n",
      "  [2 5]\n",
      "  [3 6]]]\n"
     ]
    }
   ],
   "source": [
    "arr1 = np.array([1, 2, 3])\n",
    "arr2 = np.array([4, 5, 6])\n",
    "arr = np.dstack((arr1, arr2))\n",
    "print(arr)"
   ]
  },
  {
   "cell_type": "markdown",
   "metadata": {},
   "source": [
    "### numpy intersection and difference"
   ]
  },
  {
   "cell_type": "code",
   "execution_count": 55,
   "metadata": {},
   "outputs": [
    {
     "data": {
      "text/plain": [
       "array([3, 4, 5])"
      ]
     },
     "execution_count": 55,
     "metadata": {},
     "output_type": "execute_result"
    }
   ],
   "source": [
    "arr1=np.array([1,2,3,4,5])\n",
    "arr2=np.array([3,4,5,6,8])\n",
    "np.intersect1d(arr1,arr2)"
   ]
  },
  {
   "cell_type": "code",
   "execution_count": 56,
   "metadata": {},
   "outputs": [
    {
     "data": {
      "text/plain": [
       "array([1, 2])"
      ]
     },
     "execution_count": 56,
     "metadata": {},
     "output_type": "execute_result"
    }
   ],
   "source": [
    "np.setdiff1d(arr1,arr2) #return uniq element from arr1"
   ]
  },
  {
   "cell_type": "code",
   "execution_count": 57,
   "metadata": {},
   "outputs": [
    {
     "data": {
      "text/plain": [
       "array([6, 8])"
      ]
     },
     "execution_count": 57,
     "metadata": {},
     "output_type": "execute_result"
    }
   ],
   "source": [
    "np.setdiff1d(arr2,arr1) #return uniq element from arr2"
   ]
  },
  {
   "cell_type": "markdown",
   "metadata": {},
   "source": [
    "### Addition of numpy array"
   ]
  },
  {
   "cell_type": "code",
   "execution_count": 58,
   "metadata": {},
   "outputs": [
    {
     "name": "stdout",
     "output_type": "stream",
     "text": [
      "41\n"
     ]
    }
   ],
   "source": [
    "arr1=np.array([1,2,3,4,5])\n",
    "arr2=np.array([3,4,5,6,8])\n",
    "a=np.sum([arr1,arr2])\n",
    "print(a)"
   ]
  },
  {
   "cell_type": "code",
   "execution_count": 59,
   "metadata": {},
   "outputs": [
    {
     "name": "stdout",
     "output_type": "stream",
     "text": [
      "[ 4  6  8 10 13]\n"
     ]
    }
   ],
   "source": [
    "arr1=np.array([1,2,3,4,5])\n",
    "arr2=np.array([3,4,5,6,8])\n",
    "a=np.sum([arr1,arr2], axis=0)\n",
    "print(a)"
   ]
  },
  {
   "cell_type": "code",
   "execution_count": 60,
   "metadata": {},
   "outputs": [
    {
     "name": "stdout",
     "output_type": "stream",
     "text": [
      "[15 26]\n"
     ]
    }
   ],
   "source": [
    "arr1=np.array([1,2,3,4,5])\n",
    "arr2=np.array([3,4,5,6,8])\n",
    "a=np.sum([arr1,arr2], axis=1)\n",
    "print(a)"
   ]
  },
  {
   "cell_type": "markdown",
   "metadata": {},
   "source": [
    "### numpy array mathematics"
   ]
  },
  {
   "cell_type": "code",
   "execution_count": 61,
   "metadata": {},
   "outputs": [
    {
     "name": "stdout",
     "output_type": "stream",
     "text": [
      "[11 21 31]\n"
     ]
    }
   ],
   "source": [
    "#basic Addition\n",
    "arr=np.array([10,20,30])\n",
    "arr=arr+1\n",
    "print(arr)"
   ]
  },
  {
   "cell_type": "code",
   "execution_count": 62,
   "metadata": {},
   "outputs": [
    {
     "name": "stdout",
     "output_type": "stream",
     "text": [
      "[ 9 19 29]\n"
     ]
    }
   ],
   "source": [
    "#basic subtraction\n",
    "arr=np.array([10,20,30])\n",
    "arr=arr-1\n",
    "print(arr)"
   ]
  },
  {
   "cell_type": "code",
   "execution_count": 63,
   "metadata": {},
   "outputs": [
    {
     "name": "stdout",
     "output_type": "stream",
     "text": [
      "[20 40 60]\n"
     ]
    }
   ],
   "source": [
    "#basic multiplication\n",
    "arr=np.array([10,20,30])\n",
    "arr=arr*2\n",
    "print(arr)"
   ]
  },
  {
   "cell_type": "code",
   "execution_count": 64,
   "metadata": {},
   "outputs": [
    {
     "name": "stdout",
     "output_type": "stream",
     "text": [
      "[ 5. 10. 15.]\n"
     ]
    }
   ],
   "source": [
    "#basic division\n",
    "arr=np.array([10,20,30])\n",
    "arr=arr/2\n",
    "print(arr)"
   ]
  },
  {
   "cell_type": "code",
   "execution_count": 65,
   "metadata": {},
   "outputs": [
    {
     "data": {
      "text/plain": [
       "20.0"
      ]
     },
     "execution_count": 65,
     "metadata": {},
     "output_type": "execute_result"
    }
   ],
   "source": [
    "arr=np.array([10,20,30])\n",
    "np.mean(arr)"
   ]
  },
  {
   "cell_type": "code",
   "execution_count": 66,
   "metadata": {},
   "outputs": [
    {
     "data": {
      "text/plain": [
       "20.0"
      ]
     },
     "execution_count": 66,
     "metadata": {},
     "output_type": "execute_result"
    }
   ],
   "source": [
    "arr=np.array([10,20,30])\n",
    "np.median(arr)"
   ]
  },
  {
   "cell_type": "code",
   "execution_count": 67,
   "metadata": {},
   "outputs": [
    {
     "data": {
      "text/plain": [
       "8.16496580927726"
      ]
     },
     "execution_count": 67,
     "metadata": {},
     "output_type": "execute_result"
    }
   ],
   "source": [
    "arr=np.array([10,20,30])\n",
    "np.std(arr) "
   ]
  },
  {
   "cell_type": "code",
   "execution_count": 68,
   "metadata": {},
   "outputs": [
    {
     "name": "stdout",
     "output_type": "stream",
     "text": [
      "[10 20 30]\n"
     ]
    }
   ],
   "source": [
    "arr=np.array([10,20,30])\n",
    "np.save('myarray', arr)\n",
    "newary=np.load('myarray.npy')\n",
    "print(newary)"
   ]
  },
  {
   "cell_type": "markdown",
   "metadata": {},
   "source": [
    "### Splitting NumPy Arrays\n",
    "\n",
    "Splitting is reverse operation of Joining.\n",
    "\n",
    "Joining merges multiple arrays into one and Splitting breaks one array into multiple.\n",
    "\n",
    "We use array_split() for splitting arrays, we pass it the array we want to split and the number of splits."
   ]
  },
  {
   "cell_type": "code",
   "execution_count": 69,
   "metadata": {},
   "outputs": [
    {
     "name": "stdout",
     "output_type": "stream",
     "text": [
      "[array([1, 2]), array([3, 4]), array([5, 6])]\n"
     ]
    }
   ],
   "source": [
    "import numpy as np\n",
    "arr=np.array([1,2,3,4,5,6])\n",
    "new_arr=np.array_split(arr,3) # divide above array into 3 parts\n",
    "print(new_arr)"
   ]
  },
  {
   "cell_type": "code",
   "execution_count": 70,
   "metadata": {},
   "outputs": [
    {
     "name": "stdout",
     "output_type": "stream",
     "text": [
      "[array([[1, 2],\n",
      "       [3, 4]]), array([[5, 6],\n",
      "       [7, 8]]), array([[ 9, 10],\n",
      "       [11, 12]])]\n"
     ]
    }
   ],
   "source": [
    "#splititng 2D array\n",
    "arr = np.array([[1, 2], [3, 4], [5, 6], [7, 8], [9, 10], [11, 12]])\n",
    "newarr = np.array_split(arr, 3)\n",
    "print(newarr)"
   ]
  },
  {
   "cell_type": "code",
   "execution_count": 71,
   "metadata": {},
   "outputs": [
    {
     "name": "stdout",
     "output_type": "stream",
     "text": [
      "[array([[ 1],\n",
      "       [ 4],\n",
      "       [ 7],\n",
      "       [10],\n",
      "       [13],\n",
      "       [16]]), array([[ 2],\n",
      "       [ 5],\n",
      "       [ 8],\n",
      "       [11],\n",
      "       [14],\n",
      "       [17]]), array([[ 3],\n",
      "       [ 6],\n",
      "       [ 9],\n",
      "       [12],\n",
      "       [15],\n",
      "       [18]])]\n"
     ]
    }
   ],
   "source": [
    "#Use the hsplit() method to split the 2-D array into three 2-D arrays along rows\n",
    "arr = np.array([[1, 2, 3], [4, 5, 6], [7, 8, 9], [10, 11, 12], [13, 14, 15], [16, 17, 18]])\n",
    "# newarr = np.hsplit(arr, 3)\n",
    "newarr = np.array_split(arr, 3, axis=1)\n",
    "print(newarr)"
   ]
  },
  {
   "cell_type": "markdown",
   "metadata": {},
   "source": [
    "### Searching Arrays\n",
    "\n",
    "You can search an array for a certain value, and return the indexes that get a match.\n",
    "\n",
    "To search an array, use the where() method."
   ]
  },
  {
   "cell_type": "code",
   "execution_count": 72,
   "metadata": {},
   "outputs": [
    {
     "name": "stdout",
     "output_type": "stream",
     "text": [
      "(array([3, 6]),)\n"
     ]
    }
   ],
   "source": [
    "#             0,1,2,3,4,5,6\n",
    "arr=np.array([1,2,3,4,5,6,4])\n",
    "x=np.where(arr==4) # return indexes where the value is 4:\n",
    "print(x)"
   ]
  },
  {
   "cell_type": "code",
   "execution_count": 73,
   "metadata": {},
   "outputs": [
    {
     "name": "stdout",
     "output_type": "stream",
     "text": [
      "(array([1, 3, 5, 6]),)\n"
     ]
    }
   ],
   "source": [
    "# Find the indexes where the indexes are even:\n",
    "arr=np.array([1,2,3,4,5,6,4])\n",
    "x=np.where(arr%2==0)\n",
    "print(x)"
   ]
  },
  {
   "cell_type": "code",
   "execution_count": 74,
   "metadata": {},
   "outputs": [
    {
     "name": "stdout",
     "output_type": "stream",
     "text": [
      "[-1  2 -1  4 -1  6  4]\n"
     ]
    }
   ],
   "source": [
    "arr=np.array([1,2,3,4,5,6,4])\n",
    "x=np.where(arr%2==0, arr, -1)\n",
    "print(x)"
   ]
  },
  {
   "cell_type": "code",
   "execution_count": 75,
   "metadata": {},
   "outputs": [
    {
     "name": "stdout",
     "output_type": "stream",
     "text": [
      "(array([0, 2, 4]),)\n"
     ]
    }
   ],
   "source": [
    "# Find the indexes where the values are odd:\n",
    "arr=np.array([1,2,3,4,5,6,4])\n",
    "x=np.where(arr%2==1)\n",
    "print(x)"
   ]
  },
  {
   "cell_type": "code",
   "execution_count": 76,
   "metadata": {},
   "outputs": [
    {
     "name": "stdout",
     "output_type": "stream",
     "text": [
      "5\n"
     ]
    }
   ],
   "source": [
    "# Find the indexes where the value 7 should be inserted:\n",
    "arr = np.array([6, 7, 8, 9, 12, 20])\n",
    "x = np.searchsorted(arr, 19)\n",
    "print(x)\n"
   ]
  },
  {
   "cell_type": "code",
   "execution_count": 77,
   "metadata": {},
   "outputs": [
    {
     "name": "stdout",
     "output_type": "stream",
     "text": [
      "2\n"
     ]
    }
   ],
   "source": [
    "# Find the indexes where the value 7 should be inserted, starting from the right:\n",
    "import numpy as np\n",
    "arr = np.array([6, 7, 8, 9])\n",
    "x = np.searchsorted(arr, 7, side='right')\n",
    "print(x)"
   ]
  },
  {
   "cell_type": "markdown",
   "metadata": {},
   "source": [
    "### Sorting Arrays\n",
    "\n",
    "Sorting means putting elements in an ordered sequence.\n",
    "\n",
    "Ordered sequence is any sequence that has an order corresponding to elements, like numeric or alphabetical, ascending or descending.\n",
    "\n",
    "The NumPy ndarray object has a function called sort(), that will sort a specified array."
   ]
  },
  {
   "cell_type": "code",
   "execution_count": 78,
   "metadata": {},
   "outputs": [
    {
     "name": "stdout",
     "output_type": "stream",
     "text": [
      "[0 1 2 3]\n"
     ]
    }
   ],
   "source": [
    "import numpy as np\n",
    "arr = np.array([3, 2, 0, 1])\n",
    "print(np.sort(arr))"
   ]
  },
  {
   "cell_type": "markdown",
   "metadata": {},
   "source": [
    "### Filtering Arrays\n",
    "\n",
    "Getting some elements out of an existing array and creating a new array out of them is called filtering.\n",
    "\n",
    "In NumPy, you filter an array using a boolean index list. If the value at an index is True that element is contained in the filtered array, if the value at that index is False that element is excluded from the filtered array."
   ]
  },
  {
   "cell_type": "code",
   "execution_count": 79,
   "metadata": {},
   "outputs": [
    {
     "name": "stdout",
     "output_type": "stream",
     "text": [
      "[41 43]\n"
     ]
    }
   ],
   "source": [
    "arr = np.array([41, 42, 43, 44])\n",
    "x = [True, False, True, False]\n",
    "newarr = arr[x]\n",
    "print(newarr)"
   ]
  },
  {
   "cell_type": "code",
   "execution_count": 80,
   "metadata": {},
   "outputs": [
    {
     "name": "stdout",
     "output_type": "stream",
     "text": [
      "[False, False, True, True]\n",
      "[43 44]\n"
     ]
    }
   ],
   "source": [
    "# Create a filter array that will return only values higher than 42:\n",
    "import numpy as np\n",
    "arr = np.array([41, 42, 43, 44])\n",
    "# Create an empty list\n",
    "filter_arr = []\n",
    "# go through each element in arr\n",
    "for element in arr:\n",
    "    # if the element is higher than 42, set the value to True, otherwise False:\n",
    "    if element > 42:\n",
    "        filter_arr.append(True)\n",
    "    else:\n",
    "        filter_arr.append(False)\n",
    "        \n",
    "newarr = arr[filter_arr]\n",
    "print(filter_arr)\n",
    "print(newarr)"
   ]
  },
  {
   "cell_type": "code",
   "execution_count": 81,
   "metadata": {},
   "outputs": [
    {
     "name": "stdout",
     "output_type": "stream",
     "text": [
      "[False, True, False, True, False, True, False]\n",
      "[2 4 6]\n"
     ]
    }
   ],
   "source": [
    "# Create a filter array that will return only even elements from the original array:\n",
    "import numpy as np\n",
    "arr = np.array([1, 2, 3, 4, 5, 6, 7])\n",
    "# Create an empty list\n",
    "filter_arr = []\n",
    "# go through each element in arr\n",
    "for element in arr:\n",
    " # if the element is completely divisble by 2, set the value to True, otherwise False\n",
    "    if element % 2 == 0:\n",
    "        filter_arr.append(True)\n",
    "    else:\n",
    "        filter_arr.append(False)\n",
    "\n",
    "newarr = arr[filter_arr]\n",
    "print(filter_arr)\n",
    "print(newarr)"
   ]
  },
  {
   "cell_type": "code",
   "execution_count": 82,
   "metadata": {},
   "outputs": [
    {
     "name": "stdout",
     "output_type": "stream",
     "text": [
      "[False False  True  True]\n",
      "[43 44]\n"
     ]
    }
   ],
   "source": [
    "# Create a filter array that will return only values higher than 42:\n",
    "import numpy as np\n",
    "arr = np.array([41, 42, 43, 44])\n",
    "filter_arr = arr > 42\n",
    "newarr = arr[filter_arr]\n",
    "print(filter_arr)\n",
    "print(newarr)"
   ]
  },
  {
   "cell_type": "code",
   "execution_count": 83,
   "metadata": {},
   "outputs": [
    {
     "name": "stdout",
     "output_type": "stream",
     "text": [
      "[2 4 6]\n"
     ]
    }
   ],
   "source": [
    "arr = np.array([1, 2, 3, 4, 5, 6, 7])\n",
    "print(arr[arr % 2 == 0])"
   ]
  }
 ],
 "metadata": {
  "kernelspec": {
   "display_name": "Python 3.9.12 ('base')",
   "language": "python",
   "name": "python3"
  },
  "language_info": {
   "codemirror_mode": {
    "name": "ipython",
    "version": 3
   },
   "file_extension": ".py",
   "mimetype": "text/x-python",
   "name": "python",
   "nbconvert_exporter": "python",
   "pygments_lexer": "ipython3",
   "version": "3.9.12"
  },
  "orig_nbformat": 4,
  "vscode": {
   "interpreter": {
    "hash": "41f7ba8645af086de5a2c668809fdb57629028366d5687fb2c6a0345f663f190"
   }
  }
 },
 "nbformat": 4,
 "nbformat_minor": 2
}
